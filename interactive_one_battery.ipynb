{
 "cells": [
  {
   "cell_type": "code",
   "execution_count": 1,
   "id": "79cd3b07",
   "metadata": {},
   "outputs": [],
   "source": []
  },
  {
   "cell_type": "code",
   "execution_count": 3,
   "id": "1cdc121b",
   "metadata": {},
   "outputs": [
    {
     "data": {
      "application/vnd.jupyter.widget-view+json": {
       "model_id": "a9b37911a9184a589b8fa18eadb9e33e",
       "version_major": 2,
       "version_minor": 0
      },
      "text/plain": [
       "interactive(children=(IntSlider(value=0, description='Battery Size', max=11), SelectionSlider(description='Sol…"
      ]
     },
     "metadata": {},
     "output_type": "display_data"
    },
    {
     "data": {
      "text/plain": [
       "<function __main__.update_heatmaps(group_idx, per)>"
      ]
     },
     "execution_count": 3,
     "metadata": {},
     "output_type": "execute_result"
    }
   ],
   "source": [
    "import pandas as pd\n",
    "import numpy as np\n",
    "import matplotlib.pyplot as plt\n",
    "import os\n",
    "import seaborn as sns\n",
    "import pickle\n",
    "\n",
    "# Load lob from the file\n",
    "with open('lob_data.pkl', 'rb') as f:\n",
    "    lob = pickle.load(f)\n",
    "\n",
    "import matplotlib.pyplot as plt\n",
    "import seaborn as sns\n",
    "import numpy as np\n",
    "from matplotlib.colors import LinearSegmentedColormap, TwoSlopeNorm\n",
    "import ipywidgets as widgets\n",
    "from IPython.display import display\n",
    "\n",
    "# Define custom colormap and normalization\n",
    "colors = ['green', 'white', 'red']\n",
    "custom_cmap = LinearSegmentedColormap.from_list('custom_red_white_green', colors)\n",
    "\n",
    "# Slider for selecting the group of matrices (11 groups in total)\n",
    "group_slider = widgets.IntSlider(min=0, max=11, step=1, description='Battery Size')\n",
    "\n",
    "# SelectionSlider for solar and wind green percentage values\n",
    "battery_size_slider = widgets.SelectionSlider(\n",
    "    options=[10, 15, 20],  # these are the percentage values you want to select\n",
    "    description='Solar + Wind Green %',\n",
    "    value=10  # Initial value must be from the options\n",
    ")\n",
    "\n",
    "# Create a function to update the heatmaps and set up click interaction\n",
    "def update_heatmaps(group_idx, per):\n",
    "    # Extract the matrices from the current group in lob\n",
    "    (optimized_cumulative_battery_mw, optimized_cumulative_wind_gen_mw,\n",
    "     optimized_cumulative_solar_gen_mw, optimized_cumulative_grid_mw,\n",
    "     optimized_spill_value, optimized_spill_value_balancing_price) = lob[group_idx]\n",
    "    \n",
    "    # Calculate the battery size based on the group index\n",
    "    battery_size = 30 + 15 * group_idx\n",
    "    \n",
    "    # Calculate the vcenter based on the selected percentage\n",
    "    percent = 263560 * per * 0.01  # Adjusting percentage for vcenter calculation\n",
    "    norm = TwoSlopeNorm(vmin=0, vcenter=percent, vmax=263560)  # Recalculate the normalization\n",
    "\n",
    "    # Plot the heatmap for optimized_cumulative_grid_mw\n",
    "    fig, ax = plt.subplots(figsize=(10, 8))\n",
    "    heatmap = sns.heatmap(optimized_cumulative_grid_mw, cmap=custom_cmap, norm=norm, annot=False, fmt=\".1f\", ax=ax)\n",
    "    \n",
    "    # Add labels and title with Battery Size and the selected 'per' value\n",
    "    plt.title(f'Battery Size: {battery_size} MWh - Wind + Solar vs Grid Draw | \"Percent\" Value: {per}%')\n",
    "    plt.xlabel('Wind Capacity MWh')\n",
    "    plt.ylabel('Solar Capacity MW')\n",
    "    plt.xticks(ticks=np.arange(0, 16), labels=np.arange(0, 301, 20))\n",
    "    plt.yticks(ticks=np.arange(0, 16), labels=np.arange(0, 301, 20))\n",
    "    \n",
    "    # Display placeholders for solar capacity, wind capacity, and spill value\n",
    "    solar_label = plt.text(-3, 18, \"Wind Capacity: \", fontsize=12, color=\"black\", ha=\"left\")\n",
    "    wind_label = plt.text(-3, 19, \"Solar Capacity: \", fontsize=12, color=\"black\", ha=\"left\")\n",
    "    spill_label = plt.text(-3, 20, \"Spill Value (M€): \", fontsize=12, color=\"black\", ha=\"left\")\n",
    "\n",
    "    # Function to update labels when a cell is clicked\n",
    "    def on_click(event):\n",
    "        if event.inaxes == ax:\n",
    "            # Convert click coordinates to indices\n",
    "            x, y = int(event.xdata), int(event.ydata)\n",
    "            \n",
    "            # Get corresponding values\n",
    "            solar_capacity = x * 20\n",
    "            wind_capacity = y * 20\n",
    "            spill_value = optimized_spill_value_balancing_price[y, x] / 1e6  # Convert to million euro\n",
    "\n",
    "            # Update the text labels with the clicked values\n",
    "            solar_label.set_text(f\"Solar Capacity: {solar_capacity} MW\")\n",
    "            wind_label.set_text(f\"Wind Capacity: {wind_capacity} MW\")\n",
    "            spill_label.set_text(f\"Spill Value (M€): {spill_value:.2f}\")\n",
    "            \n",
    "            # Redraw the canvas to show updated text\n",
    "            fig.canvas.draw()\n",
    "\n",
    "    # Connect the click event to the on_click function\n",
    "    fig.canvas.mpl_connect('button_press_event', on_click)\n",
    "\n",
    "    # Show the plot\n",
    "    plt.tight_layout()\n",
    "    plt.show()\n",
    "\n",
    "# Display the interactive widget with the update function\n",
    "widgets.interact(update_heatmaps, group_idx=group_slider, per=battery_size_slider)\n"
   ]
  },
  {
   "cell_type": "code",
   "execution_count": 4,
   "id": "1c747f90",
   "metadata": {},
   "outputs": [
    {
     "name": "stdout",
     "output_type": "stream",
     "text": [
      "Requirement already satisfied: pyinstaller in /Library/Frameworks/Python.framework/Versions/3.10/lib/python3.10/site-packages (6.10.0)\n",
      "Requirement already satisfied: setuptools>=42.0.0 in /Library/Frameworks/Python.framework/Versions/3.10/lib/python3.10/site-packages (from pyinstaller) (63.2.0)\n",
      "Requirement already satisfied: altgraph in /Library/Frameworks/Python.framework/Versions/3.10/lib/python3.10/site-packages (from pyinstaller) (0.17.4)\n",
      "Requirement already satisfied: pyinstaller-hooks-contrib>=2024.8 in /Library/Frameworks/Python.framework/Versions/3.10/lib/python3.10/site-packages (from pyinstaller) (2024.8)\n",
      "Requirement already satisfied: packaging>=22.0 in /Library/Frameworks/Python.framework/Versions/3.10/lib/python3.10/site-packages (from pyinstaller) (24.1)\n",
      "Requirement already satisfied: macholib>=1.8 in /Library/Frameworks/Python.framework/Versions/3.10/lib/python3.10/site-packages (from pyinstaller) (1.16.3)\n"
     ]
    }
   ],
   "source": [
    "!pip install pyinstaller"
   ]
  },
  {
   "cell_type": "code",
   "execution_count": null,
   "id": "d74e4ac0",
   "metadata": {},
   "outputs": [],
   "source": []
  }
 ],
 "metadata": {
  "kernelspec": {
   "display_name": "Python 3 (ipykernel)",
   "language": "python",
   "name": "python3"
  },
  "language_info": {
   "codemirror_mode": {
    "name": "ipython",
    "version": 3
   },
   "file_extension": ".py",
   "mimetype": "text/x-python",
   "name": "python",
   "nbconvert_exporter": "python",
   "pygments_lexer": "ipython3",
   "version": "3.10.7"
  }
 },
 "nbformat": 4,
 "nbformat_minor": 5
}
